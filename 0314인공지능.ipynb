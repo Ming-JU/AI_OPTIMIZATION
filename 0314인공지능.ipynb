{
 "cells": [
  {
   "cell_type": "code",
   "execution_count": 3,
   "metadata": {},
   "outputs": [
    {
     "data": {
      "text/plain": [
       "720"
      ]
     },
     "execution_count": 3,
     "metadata": {},
     "output_type": "execute_result"
    }
   ],
   "source": [
    "def factorial(n):\n",
    "    mult = 1\n",
    "    for k in range(1,n+1):\n",
    "        mult = mult*k\n",
    "        \n",
    "    return mult\n",
    "factorial(6)"
   ]
  },
  {
   "cell_type": "code",
   "execution_count": 51,
   "metadata": {},
   "outputs": [],
   "source": [
    "'''\n",
    "class: Abstract structure\n",
    "class_name:\n",
    "def\n",
    "'''\n",
    "class Vector2D:\n",
    "    \n",
    "    def __init__(self, x, y):\n",
    "        self.x=x\n",
    "        self.y=y\n",
    "        print(\"Vector is initialized by(\",self.x,\",\",self.y,\")\")\n",
    "    def sqr_magnitude(self):\n",
    "        return self.x*self.x+self.y*self.y\n",
    "    def inner_product(self,v1):\n",
    "        return self.x*v1.x+self.y*v1.y\n",
    "    def cross_product(self,v1):\n",
    "        return self.x*v1.y-self.y*v1.x"
   ]
  },
  {
   "cell_type": "code",
   "execution_count": 52,
   "metadata": {},
   "outputs": [
    {
     "name": "stdout",
     "output_type": "stream",
     "text": [
      "Vector is initialized by( 1 , 9 )\n",
      "82\n"
     ]
    }
   ],
   "source": [
    "v1=Vector2D(1,9)\n",
    "sqr_mag_test =v1.sqr_magnitude()\n",
    "print(sqr_mag_test)"
   ]
  },
  {
   "cell_type": "code",
   "execution_count": 53,
   "metadata": {},
   "outputs": [
    {
     "name": "stdout",
     "output_type": "stream",
     "text": [
      "Vector is initialized by( 1 , 9 )\n",
      "Vector is initialized by( 2 , 10 )\n"
     ]
    }
   ],
   "source": [
    "v1= Vector2D(1,9)\n",
    "v2= Vector2D(2,10)"
   ]
  },
  {
   "cell_type": "code",
   "execution_count": 54,
   "metadata": {},
   "outputs": [
    {
     "name": "stdout",
     "output_type": "stream",
     "text": [
      "104\n"
     ]
    }
   ],
   "source": [
    "sqr_mag_test=v2.sqr_magnitude()\n",
    "print(sqr_mag_test)\n"
   ]
  },
  {
   "cell_type": "code",
   "execution_count": 55,
   "metadata": {},
   "outputs": [],
   "source": [
    "inner_test=v1.inner_product(v2)"
   ]
  },
  {
   "cell_type": "code",
   "execution_count": 56,
   "metadata": {},
   "outputs": [
    {
     "name": "stdout",
     "output_type": "stream",
     "text": [
      "92\n"
     ]
    }
   ],
   "source": [
    "print(inner_test)"
   ]
  },
  {
   "cell_type": "code",
   "execution_count": 57,
   "metadata": {},
   "outputs": [
    {
     "name": "stdout",
     "output_type": "stream",
     "text": [
      "-8\n"
     ]
    }
   ],
   "source": [
    "cross_test = v1.cross_product(v2)\n",
    "print(cross_test)"
   ]
  },
  {
   "cell_type": "code",
   "execution_count": null,
   "metadata": {},
   "outputs": [],
   "source": []
  }
 ],
 "metadata": {
  "kernelspec": {
   "display_name": "Python 3",
   "language": "python",
   "name": "python3"
  },
  "language_info": {
   "codemirror_mode": {
    "name": "ipython",
    "version": 3
   },
   "file_extension": ".py",
   "mimetype": "text/x-python",
   "name": "python",
   "nbconvert_exporter": "python",
   "pygments_lexer": "ipython3",
   "version": "3.7.2"
  }
 },
 "nbformat": 4,
 "nbformat_minor": 2
}
