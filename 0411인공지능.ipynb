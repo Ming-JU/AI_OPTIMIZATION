{
 "cells": [
  {
   "cell_type": "code",
   "execution_count": 12,
   "metadata": {},
   "outputs": [],
   "source": [
    "import numpy as np\n",
    "import matplotlib.pyplot as plt"
   ]
  },
  {
   "cell_type": "code",
   "execution_count": 13,
   "metadata": {},
   "outputs": [],
   "source": [
    "#set initial and t\n",
    "\n",
    "x = 2.0\n",
    "y = 2.0\n",
    "t = 0.0001 "
   ]
  },
  {
   "cell_type": "code",
   "execution_count": 17,
   "metadata": {},
   "outputs": [],
   "source": [
    "#Greadient Descent\n",
    "iter = 0\n",
    "Max_iter = 100000"
   ]
  },
  {
   "cell_type": "code",
   "execution_count": 22,
   "metadata": {},
   "outputs": [
    {
     "name": "stdout",
     "output_type": "stream",
     "text": [
      "Converge 23093\n"
     ]
    }
   ],
   "source": [
    "#For Drawing\n",
    "\n",
    "x_list = []\n",
    "y_list = []\n",
    "\n",
    "x_list.append(x)\n",
    "y_list.append(y)\n",
    "\n",
    "while iter < Max_iter:\n",
    "    xnew = x-t*(np.exp(x+3*y-0.1)+np.exp(x-3*y-0.1)-np.exp(-x-0.1))\n",
    "    ynew = y-t*(3*np.exp(x+3*y-0.1)-3*np.exp(x-3*y-0.1))\n",
    "    \n",
    "    x_list.append(xnew)\n",
    "    y_list.append(ynew)\n",
    "    norm_xy = np.sqrt((xnew-x)**2 + (ynew-y)**2)\n",
    "    \n",
    "    if norm_xy < 1e-6:\n",
    "        print(\"Converge\", iter )\n",
    "        break\n",
    "    x = xnew\n",
    "    y = ynew\n",
    "    \n",
    "    iter = iter + 1"
   ]
  },
  {
   "cell_type": "code",
   "execution_count": 23,
   "metadata": {},
   "outputs": [
    {
     "data": {
      "text/plain": [
       "<matplotlib.collections.PathCollection at 0x20d2c262550>"
      ]
     },
     "execution_count": 23,
     "metadata": {},
     "output_type": "execute_result"
    },
    {
     "data": {
      "image/png": "[encoded data removed]",
      "text/plain": [
       "<Figure size 432x288 with 1 Axes>"
      ]
     },
     "metadata": {},
     "output_type": "display_data"
    }
   ],
   "source": [
    "plt.scatter(x_list, y_list)"
   ]
  },
  {
   "cell_type": "code",
   "execution_count": null,
   "metadata": {},
   "outputs": [],
   "source": []
  },
  {
   "cell_type": "code",
   "execution_count": null,
   "metadata": {},
   "outputs": [],
   "source": []
  }
 ],
 "metadata": {
  "kernelspec": {
   "display_name": "Python 3",
   "language": "python",
   "name": "python3"
  },
  "language_info": {
   "codemirror_mode": {
    "name": "ipython",
    "version": 3
   },
   "file_extension": ".py",
   "mimetype": "text/x-python",
   "name": "python",
   "nbconvert_exporter": "python",
   "pygments_lexer": "ipython3",
   "version": "3.6.5"
  }
 },
 "nbformat": 4,
 "nbformat_minor": 2
}
