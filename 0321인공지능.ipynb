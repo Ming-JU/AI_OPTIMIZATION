{
 "cells": [
  {
   "cell_type": "code",
   "execution_count": 17,
   "metadata": {},
   "outputs": [],
   "source": [
    "import matplotlib.pyplot as plt\n",
    "import numpy as np"
   ]
  },
  {
   "cell_type": "code",
   "execution_count": 27,
   "metadata": {},
   "outputs": [],
   "source": [
    "x = np.linspace(0,1,101)\n",
    "a = 0\n",
    "b = 1\n",
    "N = 101\n",
    "dx = x[1]-x[0]"
   ]
  },
  {
   "cell_type": "code",
   "execution_count": 31,
   "metadata": {},
   "outputs": [],
   "source": [
    "f =np.zeros(N)\n",
    "f[0]=1\n",
    "\n",
    "for i in range(0,N-1):\n",
    "    f[i+1]=f[i]+x[i]*dx\n",
    "\n"
   ]
  },
  {
   "cell_type": "code",
   "execution_count": 32,
   "metadata": {},
   "outputs": [
    {
     "data": {
      "text/plain": [
       "[<matplotlib.lines.Line2D at 0x4a23b70>]"
      ]
     },
     "execution_count": 32,
     "metadata": {},
     "output_type": "execute_result"
    },
    {
     "data": {
      "image/png": "[encoded data removed]",
      "text/plain": [
       "<Figure size 432x288 with 1 Axes>"
      ]
     },
     "metadata": {
      "needs_background": "light"
     },
     "output_type": "display_data"
    }
   ],
   "source": [
    "plt.plot(x,f)"
   ]
  },
  {
   "cell_type": "code",
   "execution_count": 30,
   "metadata": {},
   "outputs": [
    {
     "data": {
      "text/plain": [
       "[<matplotlib.lines.Line2D at 0x49ee2d0>]"
      ]
     },
     "execution_count": 30,
     "metadata": {},
     "output_type": "execute_result"
    },
    {
     "data": {
      "image/png": "[encoded data removed]",
      "text/plain": [
       "<Figure size 432x288 with 1 Axes>"
      ]
     },
     "metadata": {
      "needs_background": "light"
     },
     "output_type": "display_data"
    }
   ],
   "source": [
    "#error check\n",
    "true_sol = 0.5*x*x+1\n",
    "error_check = abs(f-true_sol)\n",
    "plt.plot(x,error_check)"
   ]
  },
  {
   "cell_type": "code",
   "execution_count": 33,
   "metadata": {},
   "outputs": [],
   "source": [
    "#problem 2\n",
    "\n",
    "a = 0 \n",
    "b = 1\n",
    "N = 501\n",
    "x = np.linspace(a,b,N)\n",
    "dx = x[1]-x[0]\n"
   ]
  },
  {
   "cell_type": "code",
   "execution_count": 34,
   "metadata": {},
   "outputs": [
    {
     "ename": "SyntaxError",
     "evalue": "unexpected EOF while parsing (<ipython-input-34-a715be85ae2a>, line 5)",
     "output_type": "error",
     "traceback": [
      "\u001b[1;36m  File \u001b[1;32m\"<ipython-input-34-a715be85ae2a>\"\u001b[1;36m, line \u001b[1;32m5\u001b[0m\n\u001b[1;33m    \u001b[0m\n\u001b[1;37m    ^\u001b[0m\n\u001b[1;31mSyntaxError\u001b[0m\u001b[1;31m:\u001b[0m unexpected EOF while parsing\n"
     ]
    }
   ],
   "source": []
  },
  {
   "cell_type": "code",
   "execution_count": 43,
   "metadata": {},
   "outputs": [
    {
     "name": "stdout",
     "output_type": "stream",
     "text": [
      "[[-2.  1.  0.]\n",
      " [ 1. -2.  1.]\n",
      " [ 0.  1. -2.]]\n",
      "[0.01 0.01 0.01]\n"
     ]
    }
   ],
   "source": [
    "#similar problem\n",
    "'''\n",
    "D = np.diag(-2*np.ones(3))\n",
    "E = np.diag(np.ones(2),1)\n",
    "A = D + E + np.transpose(E)\n",
    "print(A)\n",
    "RHS = 0.01*np.ones(3)\n",
    "print(RHS)\n",
    "RHS[0] = RHS[0]-0\n",
    "RHS[2] = RHS[2]-1"
   ]
  },
  {
   "cell_type": "code",
   "execution_count": 44,
   "metadata": {},
   "outputs": [],
   "source": [
    "#f = np.linalg.solve(A,RHS)"
   ]
  },
  {
   "cell_type": "code",
   "execution_count": 106,
   "metadata": {},
   "outputs": [],
   "source": [
    "#print(f)\n",
    "#problem 2\n",
    "\n",
    "a = 0 \n",
    "b = 1\n",
    "N = 101\n",
    "x = np.linspace(a,b,101)\n",
    "dx = x[1]-x[0]\n",
    "f= np.zeros(N)\n",
    "f[0]=0\n",
    "f[N-1]=1"
   ]
  },
  {
   "cell_type": "code",
   "execution_count": 107,
   "metadata": {},
   "outputs": [
    {
     "name": "stdout",
     "output_type": "stream",
     "text": [
      "[[-2.  1.  0. ...  0.  0.  0.]\n",
      " [ 1. -2.  1. ...  0.  0.  0.]\n",
      " [ 0.  1. -2. ...  0.  0.  0.]\n",
      " ...\n",
      " [ 0.  0.  0. ... -2.  1.  0.]\n",
      " [ 0.  0.  0. ...  1. -2.  1.]\n",
      " [ 0.  0.  0. ...  0.  1. -2.]]\n"
     ]
    }
   ],
   "source": [
    "D = np.diag(-2*np.ones(N-2))\n",
    "E = np.diag(np.ones(N-3),-1)\n",
    "\n",
    "A = D+E+np.transpose(E)\n",
    "print(A)\n",
    "RHS = dx*dx * np.ones(N-2)\n",
    "RHS[0] = RHS[0] - 0\n",
    "RHS[N-3] = RHS[N-3]-1"
   ]
  },
  {
   "cell_type": "code",
   "execution_count": 108,
   "metadata": {},
   "outputs": [],
   "source": [
    "f[1:N-1] = np.linalg.solve(A,RHS)"
   ]
  },
  {
   "cell_type": "code",
   "execution_count": 109,
   "metadata": {},
   "outputs": [
    {
     "name": "stdout",
     "output_type": "stream",
     "text": [
      "[0.      0.00505 0.0102  0.01545 0.0208  0.02625 0.0318  0.03745 0.0432\n",
      " 0.04905 0.055   0.06105 0.0672  0.07345 0.0798  0.08625 0.0928  0.09945\n",
      " 0.1062  0.11305 0.12    0.12705 0.1342  0.14145 0.1488  0.15625 0.1638\n",
      " 0.17145 0.1792  0.18705 0.195   0.20305 0.2112  0.21945 0.2278  0.23625\n",
      " 0.2448  0.25345 0.2622  0.27105 0.28    0.28905 0.2982  0.30745 0.3168\n",
      " 0.32625 0.3358  0.34545 0.3552  0.36505 0.375   0.38505 0.3952  0.40545\n",
      " 0.4158  0.42625 0.4368  0.44745 0.4582  0.46905 0.48    0.49105 0.5022\n",
      " 0.51345 0.5248  0.53625 0.5478  0.55945 0.5712  0.58305 0.595   0.60705\n",
      " 0.6192  0.63145 0.6438  0.65625 0.6688  0.68145 0.6942  0.70705 0.72\n",
      " 0.73305 0.7462  0.75945 0.7728  0.78625 0.7998  0.81345 0.8272  0.84105\n",
      " 0.855   0.86905 0.8832  0.89745 0.9118  0.92625 0.9408  0.95545 0.9702\n",
      " 0.98505 1.     ]\n"
     ]
    }
   ],
   "source": [
    "print(f)"
   ]
  },
  {
   "cell_type": "code",
   "execution_count": 111,
   "metadata": {},
   "outputs": [
    {
     "data": {
      "text/plain": [
       "[<matplotlib.lines.Line2D at 0x11bdd690>]"
      ]
     },
     "execution_count": 111,
     "metadata": {},
     "output_type": "execute_result"
    },
    {
     "data": {
      "image/png": "[encoded data removed]",
      "text/plain": [
       "<Figure size 432x288 with 1 Axes>"
      ]
     },
     "metadata": {
      "needs_background": "light"
     },
     "output_type": "display_data"
    }
   ],
   "source": [
    "plt.plot(x,f)"
   ]
  },
  {
   "cell_type": "code",
   "execution_count": null,
   "metadata": {},
   "outputs": [],
   "source": []
  },
  {
   "cell_type": "code",
   "execution_count": null,
   "metadata": {},
   "outputs": [],
   "source": []
  }
 ],
 "metadata": {
  "kernelspec": {
   "display_name": "Python 3",
   "language": "python",
   "name": "python3"
  },
  "language_info": {
   "codemirror_mode": {
    "name": "ipython",
    "version": 3
   },
   "file_extension": ".py",
   "mimetype": "text/x-python",
   "name": "python",
   "nbconvert_exporter": "python",
   "pygments_lexer": "ipython3",
   "version": "3.7.2"
  }
 },
 "nbformat": 4,
 "nbformat_minor": 2
}
