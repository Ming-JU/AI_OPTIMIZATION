{
 "cells": [
  {
   "cell_type": "code",
   "execution_count": 2,
   "metadata": {},
   "outputs": [],
   "source": [
    "#While loop"
   ]
  },
  {
   "cell_type": "code",
   "execution_count": 3,
   "metadata": {},
   "outputs": [
    {
     "name": "stdout",
     "output_type": "stream",
     "text": [
      "2870\n"
     ]
    }
   ],
   "source": [
    "sum = 0\n",
    "k = 1\n",
    "while k < 21:\n",
    "    sum = sum + k*k\n",
    "    k = k + 1 ###증분 꼭 챙기깅\n",
    "print(sum)"
   ]
  },
  {
   "cell_type": "code",
   "execution_count": 5,
   "metadata": {},
   "outputs": [
    {
     "name": "stdout",
     "output_type": "stream",
     "text": [
      "2870\n"
     ]
    }
   ],
   "source": [
    "sum = 0\n",
    "k=1\n",
    "while k <21:\n",
    "    sum = sum + k**2\n",
    "    k = k+1 \n",
    "print(sum)"
   ]
  },
  {
   "cell_type": "code",
   "execution_count": 6,
   "metadata": {},
   "outputs": [],
   "source": [
    "#if/else"
   ]
  },
  {
   "cell_type": "code",
   "execution_count": 8,
   "metadata": {},
   "outputs": [
    {
     "name": "stdout",
     "output_type": "stream",
     "text": [
      "A+입니당\n"
     ]
    }
   ],
   "source": [
    "score = 60.5\n",
    "if score < 60:\n",
    "    print('F에용')\n",
    "else:\n",
    "    print('A+입니당')"
   ]
  },
  {
   "cell_type": "code",
   "execution_count": 3,
   "metadata": {},
   "outputs": [],
   "source": [
    "import matplotlib.pyplot as plt\n",
    "a = -1\n",
    "b = 1\n",
    "N = 201\n",
    "dx = (b-a)/(N-1)"
   ]
  },
  {
   "cell_type": "code",
   "execution_count": 4,
   "metadata": {},
   "outputs": [
    {
     "data": {
      "text/plain": [
       "[<matplotlib.lines.Line2D at 0xf5db650>]"
      ]
     },
     "execution_count": 4,
     "metadata": {},
     "output_type": "execute_result"
    },
    {
     "data": {
      "image/png": "[encoded data removed]",
      "text/plain": [
       "<Figure size 432x288 with 1 Axes>"
      ]
     },
     "metadata": {
      "needs_background": "light"
     },
     "output_type": "display_data"
    }
   ],
   "source": [
    "x_graph = []\n",
    "y_graph = []\n",
    "for i in range(0,N):\n",
    "    x = a + i*dx\n",
    "    x_graph.append(x)\n",
    "    y_graph.append(x**2)\n",
    "plt.plot(x_graph,y_graph,'o')\n",
    "    "
   ]
  },
  {
   "cell_type": "code",
   "execution_count": 9,
   "metadata": {},
   "outputs": [
    {
     "data": {
      "text/plain": [
       "[<matplotlib.lines.Line2D at 0x4666710>]"
      ]
     },
     "execution_count": 9,
     "metadata": {},
     "output_type": "execute_result"
    },
    {
     "data": {
      "image/png": "[encoded data removed]",
      "text/plain": [
       "<Figure size 432x288 with 1 Axes>"
      ]
     },
     "metadata": {
      "needs_background": "light"
     },
     "output_type": "display_data"
    }
   ],
   "source": [
    "a = -2\n",
    "b = 2\n",
    "N = 401\n",
    "dx = (b-a)/(N-1)\n",
    "x_graph = []\n",
    "y_graph = []\n",
    "for i in range(0,N):\n",
    "    x = a + i*dx\n",
    "    x_graph.append(x)\n",
    "    y_graph.append(x**5-5*x**3+4*x)\n",
    "plt.plot(x_graph,y_graph,'o')\n",
    "    "
   ]
  },
  {
   "cell_type": "code",
   "execution_count": 6,
   "metadata": {},
   "outputs": [],
   "source": [
    "import matplotlib.pyplot as plt"
   ]
  },
  {
   "cell_type": "code",
   "execution_count": 17,
   "metadata": {},
   "outputs": [
    {
     "data": {
      "text/plain": [
       "[<matplotlib.lines.Line2D at 0x47a0130>]"
      ]
     },
     "execution_count": 17,
     "metadata": {},
     "output_type": "execute_result"
    },
    {
     "data": {
      "image/png": "[encoded data removed]",
      "text/plain": [
       "<Figure size 432x288 with 1 Axes>"
      ]
     },
     "metadata": {
      "needs_background": "light"
     },
     "output_type": "display_data"
    }
   ],
   "source": [
    "a = 0\n",
    "b= 6\n",
    "N = 601\n",
    "dx = (b-a)/(N-1)\n",
    "\n",
    "x = []\n",
    "y = []\n",
    "\n",
    "for k in range(N):\n",
    "    x.append(a+k*dx)\n",
    "    if 0<=x[k]<2:\n",
    "        y.append(x[k]**2-2*x[k]+2)\n",
    "    elif 2<=x[k]<4:\n",
    "        y.append(-x[k]**2+6*x[k]-8)\n",
    "    else:\n",
    "        y.append(x[k]**2-10*x[k]+26)\n",
    "plt.plot(x,y,'o')"
   ]
  },
  {
   "cell_type": "code",
   "execution_count": null,
   "metadata": {},
   "outputs": [],
   "source": []
  }
 ],
 "metadata": {
  "kernelspec": {
   "display_name": "Python 3",
   "language": "python",
   "name": "python3"
  },
  "language_info": {
   "codemirror_mode": {
    "name": "ipython",
    "version": 3
   },
   "file_extension": ".py",
   "mimetype": "text/x-python",
   "name": "python",
   "nbconvert_exporter": "python",
   "pygments_lexer": "ipython3",
   "version": "3.7.2"
  }
 },
 "nbformat": 4,
 "nbformat_minor": 2
}
