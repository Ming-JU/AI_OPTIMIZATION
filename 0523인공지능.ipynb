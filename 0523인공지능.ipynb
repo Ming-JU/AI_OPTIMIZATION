{
 "cells": [
  {
   "cell_type": "code",
   "execution_count": null,
   "metadata": {},
   "outputs": [],
   "source": [
    "import pandas as pd\n",
    "import numpy as np\n",
    "import matplotlib.pyplot as plt\n",
    "#sequential minimal optimization\n",
    "#parameter\n",
    "\n",
    "c = 1.0\n",
    "n = np.size(x1_train) #training data size\n",
    "lamb = np.zeros(n)\n",
    "omega = np.zeros(2) #2차원 벡터\n",
    "b = 0 #b : scalar\n"
   ]
  },
  {
   "cell_type": "code",
   "execution_count": null,
   "metadata": {},
   "outputs": [],
   "source": [
    "#main loop\n",
    "iter = 0\n",
    "max_iter = 10000\n",
    "\n",
    "while iter < max_iter:\n",
    "    lambold = np.copy(lamb)\n",
    "    for i in range(0,n):\n",
    "        \n",
    "    "
   ]
  },
  {
   "cell_type": "code",
   "execution_count": null,
   "metadata": {},
   "outputs": [],
   "source": [
    "#"
   ]
  }
 ],
 "metadata": {
  "kernelspec": {
   "display_name": "Python 3",
   "language": "python",
   "name": "python3"
  },
  "language_info": {
   "codemirror_mode": {
    "name": "ipython",
    "version": 3
   },
   "file_extension": ".py",
   "mimetype": "text/x-python",
   "name": "python",
   "nbconvert_exporter": "python",
   "pygments_lexer": "ipython3",
   "version": "3.6.5"
  }
 },
 "nbformat": 4,
 "nbformat_minor": 2
}
